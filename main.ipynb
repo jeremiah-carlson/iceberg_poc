{
 "cells": [
  {
   "cell_type": "code",
   "execution_count": 8,
   "id": "b1a998a2",
   "metadata": {},
   "outputs": [],
   "source": [
    "import os\n",
    "from pyiceberg.catalog import load_catalog\n",
    "import polars as pl\n",
    "import pyarrow.parquet as pq\n"
   ]
  },
  {
   "cell_type": "code",
   "execution_count": 2,
   "id": "43803fa0",
   "metadata": {},
   "outputs": [],
   "source": [
    "os.environ['PYICEBERG_HOME'] = os.getcwd()\n",
    "catalog = load_catalog(name='default')\n"
   ]
  },
  {
   "cell_type": "code",
   "execution_count": 9,
   "id": "7b06277c",
   "metadata": {},
   "outputs": [],
   "source": [
    "df = pq.read_table('yellow_tripdata_2023-01.parquet')"
   ]
  },
  {
   "cell_type": "code",
   "execution_count": 5,
   "id": "9dad9788",
   "metadata": {},
   "outputs": [],
   "source": [
    "catalog.create_namespace(\"tst\")"
   ]
  },
  {
   "cell_type": "code",
   "execution_count": 20,
   "id": "5d3d88f1",
   "metadata": {},
   "outputs": [],
   "source": [
    "table = catalog.create_table(\n",
    "    \"tst.taxi_dataset2\",\n",
    "    schema=df.schema,\n",
    "    location=\"abfs://iceberg\",\n",
    ")\n"
   ]
  },
  {
   "cell_type": "code",
   "execution_count": 16,
   "id": "ae998a9a",
   "metadata": {},
   "outputs": [
    {
     "data": {
      "text/plain": [
       "6133532"
      ]
     },
     "execution_count": 16,
     "metadata": {},
     "output_type": "execute_result"
    }
   ],
   "source": [
    "table.append(df)\n",
    "len(table.scan().to_arrow())"
   ]
  },
  {
   "cell_type": "code",
   "execution_count": 17,
   "id": "fd6e6b90",
   "metadata": {},
   "outputs": [],
   "source": [
    "ts = catalog.load_table(\"tst.taxi_dataset\")"
   ]
  },
  {
   "cell_type": "code",
   "execution_count": 18,
   "id": "fc590b79",
   "metadata": {},
   "outputs": [
    {
     "data": {
      "text/plain": [
       "Schema(NestedField(field_id=1, name='VendorID', field_type=LongType(), required=False), NestedField(field_id=2, name='tpep_pickup_datetime', field_type=TimestampType(), required=False), NestedField(field_id=3, name='tpep_dropoff_datetime', field_type=TimestampType(), required=False), NestedField(field_id=4, name='passenger_count', field_type=DoubleType(), required=False), NestedField(field_id=5, name='trip_distance', field_type=DoubleType(), required=False), NestedField(field_id=6, name='RatecodeID', field_type=DoubleType(), required=False), NestedField(field_id=7, name='store_and_fwd_flag', field_type=StringType(), required=False), NestedField(field_id=8, name='PULocationID', field_type=LongType(), required=False), NestedField(field_id=9, name='DOLocationID', field_type=LongType(), required=False), NestedField(field_id=10, name='payment_type', field_type=LongType(), required=False), NestedField(field_id=11, name='fare_amount', field_type=DoubleType(), required=False), NestedField(field_id=12, name='extra', field_type=DoubleType(), required=False), NestedField(field_id=13, name='mta_tax', field_type=DoubleType(), required=False), NestedField(field_id=14, name='tip_amount', field_type=DoubleType(), required=False), NestedField(field_id=15, name='tolls_amount', field_type=DoubleType(), required=False), NestedField(field_id=16, name='improvement_surcharge', field_type=DoubleType(), required=False), NestedField(field_id=17, name='total_amount', field_type=DoubleType(), required=False), NestedField(field_id=18, name='congestion_surcharge', field_type=DoubleType(), required=False), NestedField(field_id=19, name='airport_fee', field_type=DoubleType(), required=False), schema_id=0, identifier_field_ids=[])"
      ]
     },
     "execution_count": 18,
     "metadata": {},
     "output_type": "execute_result"
    }
   ],
   "source": [
    "ts.schema()"
   ]
  }
 ],
 "metadata": {
  "kernelspec": {
   "display_name": "venv",
   "language": "python",
   "name": "python3"
  },
  "language_info": {
   "codemirror_mode": {
    "name": "ipython",
    "version": 3
   },
   "file_extension": ".py",
   "mimetype": "text/x-python",
   "name": "python",
   "nbconvert_exporter": "python",
   "pygments_lexer": "ipython3",
   "version": "3.11.10"
  }
 },
 "nbformat": 4,
 "nbformat_minor": 5
}
